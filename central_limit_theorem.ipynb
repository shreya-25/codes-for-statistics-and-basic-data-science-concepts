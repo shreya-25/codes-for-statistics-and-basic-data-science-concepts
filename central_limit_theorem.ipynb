{
  "nbformat": 4,
  "nbformat_minor": 0,
  "metadata": {
    "colab": {
      "name": "central limit theorem.ipynb",
      "provenance": []
    },
    "kernelspec": {
      "name": "python3",
      "display_name": "Python 3"
    }
  },
  "cells": [
    {
      "cell_type": "code",
      "metadata": {
        "id": "le7_61uVCApk",
        "colab_type": "code",
        "colab": {}
      },
      "source": [
        "import pandas as pd\n",
        "import numpy as np\n",
        "import matplotlib.pyplot as plt\n",
        "import seaborn as sns"
      ],
      "execution_count": null,
      "outputs": []
    },
    {
      "cell_type": "code",
      "metadata": {
        "id": "70jSlMWICHKk",
        "colab_type": "code",
        "colab": {}
      },
      "source": [
        "#uploading csv file from local device\n",
        "from google.colab import files\n",
        "uploaded = files.upload()"
      ],
      "execution_count": null,
      "outputs": []
    },
    {
      "cell_type": "code",
      "metadata": {
        "id": "ShZQh_MeCOkt",
        "colab_type": "code",
        "colab": {}
      },
      "source": [
        "df = pd.read_csv('new.csv')"
      ],
      "execution_count": null,
      "outputs": []
    },
    {
      "cell_type": "code",
      "metadata": {
        "id": "P3ZX1vzmCuGp",
        "colab_type": "code",
        "colab": {}
      },
      "source": [
        "df.head()\n"
      ],
      "execution_count": null,
      "outputs": []
    },
    {
      "cell_type": "code",
      "metadata": {
        "id": "X4ZWqNa8EVXk",
        "colab_type": "code",
        "colab": {}
      },
      "source": [
        "print(df['marks'].mean())"
      ],
      "execution_count": null,
      "outputs": []
    },
    {
      "cell_type": "code",
      "metadata": {
        "id": "JwS1fRADG5oy",
        "colab_type": "code",
        "colab": {}
      },
      "source": [
        "plt.figure(dpi=120)\n",
        "sns.kdeplot(df['marks'][0:150])\n",
        "print(\"mean[0:150]=\",df['marks'][0:150].mean())\n",
        "sns.scatterplot(df['marks'][0:150].mean(),[0],color='red',label='mean')\n",
        "plt.xlabel(\"marks\")\n",
        "plt.title(\"Distribution of population data\")\n",
        "plt.show()"
      ],
      "execution_count": null,
      "outputs": []
    },
    {
      "cell_type": "code",
      "metadata": {
        "id": "bLZDk2--aaI3",
        "colab_type": "code",
        "colab": {}
      },
      "source": [
        "plt.figure(dpi=120)\n",
        "sns.kdeplot(df['marks'][0:10])\n",
        "print(\"mean[0:10]=\",df['marks'][0:10].mean())\n",
        "sns.scatterplot(df['marks'][0:10].mean(),[0],color='red',label='mean')\n",
        "plt.xlabel(\"marks\")\n",
        "plt.title(\"Distribution of few random samples\")\n",
        "plt.show()"
      ],
      "execution_count": null,
      "outputs": []
    },
    {
      "cell_type": "code",
      "metadata": {
        "id": "t-Yt2ajKan2l",
        "colab_type": "code",
        "colab": {}
      },
      "source": [
        "plt.figure(dpi=120)\n",
        "sns.kdeplot(df['marks'][0:50])\n",
        "print(\"mean[0:50]=\",df['marks'][0:50].mean())\n",
        "sns.scatterplot(df['marks'][0:50].mean(),[0],color='red',label='mean')\n",
        "plt.xlabel(\"marks\")\n",
        "plt.title(\"Distribution of few random samples\")\n",
        "plt.show()"
      ],
      "execution_count": null,
      "outputs": []
    },
    {
      "cell_type": "code",
      "metadata": {
        "id": "VvGjklcrgNru",
        "colab_type": "code",
        "colab": {}
      },
      "source": [
        "sampled_data=[]\n",
        "for i in range(0,150):\n",
        "  sampled_data.append(df['marks'].sample(n=20).mean())"
      ],
      "execution_count": null,
      "outputs": []
    },
    {
      "cell_type": "code",
      "metadata": {
        "id": "pMN19Tjig0fi",
        "colab_type": "code",
        "colab": {}
      },
      "source": [
        "sampled_data"
      ],
      "execution_count": null,
      "outputs": []
    },
    {
      "cell_type": "code",
      "metadata": {
        "id": "YaL-XtMChlaZ",
        "colab_type": "code",
        "colab": {}
      },
      "source": [
        "error=df['marks'].mean()-pd.Series(sampled_data).mean()\n",
        "print(\"error in case of  random samples of size 20:\",error)\n",
        "print(\"actual mean\",df['marks'].mean())\n",
        "print(\"mean of sampled data\",pd.Series(sampled_data).mean())"
      ],
      "execution_count": null,
      "outputs": []
    },
    {
      "cell_type": "code",
      "metadata": {
        "id": "ZmD7noWxigya",
        "colab_type": "code",
        "colab": {}
      },
      "source": [
        "error=df['marks'].mean()-pd.Series(sampled_data).mean()\n",
        "print(\"error in case of  random samples of size 30:\",error)\n",
        "print(\"actual mean\",df['marks'].mean())\n",
        "print(\"mean of sampled data\",pd.Series(sampled_data).mean())"
      ],
      "execution_count": null,
      "outputs": []
    },
    {
      "cell_type": "code",
      "metadata": {
        "id": "CrHH0eQfiasz",
        "colab_type": "code",
        "colab": {}
      },
      "source": [
        "error=df['marks'].mean()-pd.Series(sampled_data).mean()\n",
        "print(\"error in case of  random samples of size 60:\",error)\n",
        "print(\"actual mean\",df['marks'].mean())\n",
        "print(\"mean of sampled data\",pd.Series(sampled_data).mean())\n"
      ],
      "execution_count": null,
      "outputs": []
    },
    {
      "cell_type": "code",
      "metadata": {
        "id": "ADKJnsQgHauZ",
        "colab_type": "code",
        "colab": {}
      },
      "source": [
        "plt.figure(dpi=140)\n",
        "sns.kdeplot(sampled_data)\n",
        "sns.scatterplot(df['marks'][0:150].mean(),[0],color='red',label='mean')\n",
        "plt.axvline(df['marks'][0:150].mean(), color='green')\n",
        "plt.xlabel(\"marks\")\n",
        "plt.title(\"final resultant distribution\")\n",
        "plt.show()"
      ],
      "execution_count": null,
      "outputs": []
    }
  ]
}